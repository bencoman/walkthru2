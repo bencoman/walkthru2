{
 "cells": [
  {
   "cell_type": "markdown",
   "id": "c1abe016-8d6b-48a7-9b68-e1c7bc0d179c",
   "metadata": {},
   "source": [
    "## Walkthru sample notebook"
   ]
  },
  {
   "cell_type": "markdown",
   "id": "0205490a-94e4-44a0-a3b3-896db1227a85",
   "metadata": {},
   "source": [
    "Here is how I calculate ``1+1``"
   ]
  },
  {
   "cell_type": "code",
   "execution_count": 2,
   "id": "d5836372-e9aa-45c2-b2cd-8da3d2d673eb",
   "metadata": {},
   "outputs": [
    {
     "data": {
      "text/plain": [
       "2"
      ]
     },
     "execution_count": 2,
     "metadata": {},
     "output_type": "execute_result"
    }
   ],
   "source": [
    "1+1"
   ]
  },
  {
   "cell_type": "code",
   "execution_count": null,
   "id": "b4c3e59b-b595-49c5-a7d3-3af5c38998ff",
   "metadata": {},
   "outputs": [],
   "source": []
  }
 ],
 "metadata": {
  "kernelspec": {
   "display_name": "Python 3 (ipykernel)",
   "language": "python",
   "name": "python3"
  },
  "language_info": {
   "codemirror_mode": {
    "name": "ipython",
    "version": 3
   },
   "file_extension": ".py",
   "mimetype": "text/x-python",
   "name": "python",
   "nbconvert_exporter": "python",
   "pygments_lexer": "ipython3",
   "version": "3.9.10"
  }
 },
 "nbformat": 4,
 "nbformat_minor": 5
}
